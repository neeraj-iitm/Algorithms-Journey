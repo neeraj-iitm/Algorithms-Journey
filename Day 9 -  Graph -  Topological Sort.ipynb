{
 "cells": [
  {
   "cell_type": "code",
   "execution_count": 72,
   "metadata": {},
   "outputs": [],
   "source": [
    "class Graph:\n",
    "    def __init__(self, edges, N):\n",
    "        self.adjList =[[] for _ in range(N)]\n",
    "        \n",
    "        for (source,destin) in edges:\n",
    "            self.adjList[source].append(destin)"
   ]
  },
  {
   "cell_type": "code",
   "execution_count": 73,
   "metadata": {},
   "outputs": [],
   "source": [
    "def DFS(graph, node, visited, arrival, departure, time):\n",
    "    \n",
    "    time = time + 1\n",
    "    \n",
    "    visited[node] =  True\n",
    "    arrival[node] = time\n",
    "    \n",
    "    for u in graph.adjList[node]:\n",
    "        if not visited[u]:\n",
    "            time =  DFS(graph, u, visited, arrival, departure, time)\n",
    "    \n",
    "    time = time + 1\n",
    "    \n",
    "    departure[node] = time \n",
    "    topsort_time[time] = node\n",
    "    return time"
   ]
  },
  {
   "cell_type": "code",
   "execution_count": 83,
   "metadata": {},
   "outputs": [],
   "source": [
    "def topsort(N,topsort_time):\n",
    "    for i in range(2*N-1,-1,-1):\n",
    "        if topsort_time[i]!=-1:\n",
    "            print(topsort_time[i], end= \" | \")\n"
   ]
  },
  {
   "cell_type": "code",
   "execution_count": 84,
   "metadata": {},
   "outputs": [],
   "source": [
    "N = 8\n",
    "edges = [(0, 6), (1, 2), (1, 4), (1, 6), (3, 0), (3, 4), (5, 1), (7, 0), (7, 1)]\n",
    "graph = Graph(edges,N)"
   ]
  },
  {
   "cell_type": "code",
   "execution_count": 85,
   "metadata": {},
   "outputs": [
    {
     "name": "stdout",
     "output_type": "stream",
     "text": [
      "7 | 5 | 3 | 1 | 4 | 2 | 0 | 6 | "
     ]
    }
   ],
   "source": [
    "visited = [False]*N\n",
    "arrival = [0]*N\n",
    "departure = [0]*N\n",
    "topsort_time = [-1]*N*2\n",
    "time = -1\n",
    "for i in range(N):\n",
    "    if not visited[i]:\n",
    "        time = DFS(graph, i, visited, arrival, departure, time)\n",
    "        \n",
    "\n",
    "topsort(N=N,topsort_time=topsort_time)"
   ]
  },
  {
   "cell_type": "code",
   "execution_count": 77,
   "metadata": {},
   "outputs": [
    {
     "data": {
      "text/plain": [
       "[True, True, True, True, True, True, True, True]"
      ]
     },
     "execution_count": 77,
     "metadata": {},
     "output_type": "execute_result"
    }
   ],
   "source": [
    "visited"
   ]
  },
  {
   "cell_type": "code",
   "execution_count": 78,
   "metadata": {},
   "outputs": [
    {
     "data": {
      "text/plain": [
       "[3, 9, 6, 11, 8, 13, 2, 15]"
      ]
     },
     "execution_count": 78,
     "metadata": {},
     "output_type": "execute_result"
    }
   ],
   "source": [
    "departure"
   ]
  },
  {
   "cell_type": "code",
   "execution_count": 79,
   "metadata": {},
   "outputs": [
    {
     "data": {
      "text/plain": [
       "[0, 4, 5, 10, 7, 12, 1, 14]"
      ]
     },
     "execution_count": 79,
     "metadata": {},
     "output_type": "execute_result"
    }
   ],
   "source": [
    "arrival"
   ]
  },
  {
   "cell_type": "code",
   "execution_count": 80,
   "metadata": {},
   "outputs": [
    {
     "data": {
      "text/plain": [
       "[-1, -1, 6, 0, -1, -1, 2, -1, 4, 1, -1, 3, -1, 5, -1, 7]"
      ]
     },
     "execution_count": 80,
     "metadata": {},
     "output_type": "execute_result"
    }
   ],
   "source": [
    "topsort_time"
   ]
  }
 ],
 "metadata": {
  "kernelspec": {
   "display_name": "Python 3",
   "language": "python",
   "name": "python3"
  },
  "language_info": {
   "codemirror_mode": {
    "name": "ipython",
    "version": 3
   },
   "file_extension": ".py",
   "mimetype": "text/x-python",
   "name": "python",
   "nbconvert_exporter": "python",
   "pygments_lexer": "ipython3",
   "version": "3.7.4"
  }
 },
 "nbformat": 4,
 "nbformat_minor": 2
}
