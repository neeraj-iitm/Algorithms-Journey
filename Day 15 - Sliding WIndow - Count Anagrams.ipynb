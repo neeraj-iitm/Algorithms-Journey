{
 "cells": [
  {
   "cell_type": "code",
   "execution_count": 214,
   "metadata": {},
   "outputs": [],
   "source": [
    "def search(pat, txt):\n",
    "    \n",
    "    \n",
    "    n = len(txt)\n",
    "    i= 0\n",
    "    j=0\n",
    "    mnct = 0\n",
    "    target = {}\n",
    "    for a in pat:\n",
    "        if a in target:\n",
    "            target[a]+=1\n",
    "        else:\n",
    "            target[a]=1\n",
    "    count = len(target)\n",
    "    dummy = target\n",
    "    while j<n:\n",
    "        \n",
    "        \n",
    "        if txt[j] in target:\n",
    "            target[txt[j]] = target[txt[j]] - 1\n",
    "            if target[txt[j]] == 0:\n",
    "                count = count - 1\n",
    "        if count == 0:\n",
    "            mnct += 1\n",
    "            \n",
    "        if txt[i] in target and i!=0:\n",
    "            \n",
    "            if target[txt[i]] == 0:\n",
    "                count=count+1\n",
    "            \n",
    "            target[txt[i]] = target[txt[i]] + 1    \n",
    "        \n",
    "        \n",
    "        if j<len(pat):\n",
    "            j=j+1\n",
    "        else:\n",
    "            i=i+1\n",
    "            j=j+1\n",
    "        \n",
    "    return mnct"
   ]
  },
  {
   "cell_type": "code",
   "execution_count": 215,
   "metadata": {},
   "outputs": [
    {
     "ename": "KeyError",
     "evalue": "'q'",
     "output_type": "error",
     "traceback": [
      "\u001b[0;31m---------------------------------------------------------------------------\u001b[0m",
      "\u001b[0;31mKeyError\u001b[0m                                  Traceback (most recent call last)",
      "\u001b[0;32m<ipython-input-215-2b73def5a1de>\u001b[0m in \u001b[0;36m<module>\u001b[0;34m\u001b[0m\n\u001b[0;32m----> 1\u001b[0;31m \u001b[0msearch\u001b[0m\u001b[0;34m(\u001b[0m\u001b[0;34m\"abcdefghijklmnopkrstuvwxyz\"\u001b[0m\u001b[0;34m,\u001b[0m \u001b[0;34m\"gvdzvbswujtwzpvqbogzjsrfqcuuxmpczmprhmuamfuqchosbqdujaxvxpujruczfdqqzzuavomjqohpvqpaufsmcsbmruxmgbhcexuxqwhxhfttvjhyzdevfoxujdmzqhxvamqrhvamxzuouopbusubsjzqcqfcrpmpgfcdxcrzxhfbpuhacramjqzqquzjouxmprugduqocpsfsmcvvbmxzhkzjdyvfmbfoipdmeosscqzpvhurumzarpzcvmcgjuxjdqabfpqoomqfmuubhxancnafsxzbubebvnfhlmpctfwmaubbqhpqquafzucpdupcoxzjgvvfxmqrzcoushrjmmsxhujmjpfvsgqopsucozardbzqmrucpbfmucuhqqzmxavcjvofacxfbsuxbqsqhpahuzgqmmrdpvjmcomuqzupuzrrpuusahcvvmhxjzufmfzacrbjqsummrxoqzgocqpdbupqdtsmozwsradrbfapooc\"\u001b[0m\u001b[0;34m)\u001b[0m\u001b[0;34m\u001b[0m\u001b[0;34m\u001b[0m\u001b[0m\n\u001b[0m",
      "\u001b[0;32m<ipython-input-214-10e6e382b0b1>\u001b[0m in \u001b[0;36msearch\u001b[0;34m(pat, txt)\u001b[0m\n\u001b[1;32m     25\u001b[0m \u001b[0;34m\u001b[0m\u001b[0m\n\u001b[1;32m     26\u001b[0m         \u001b[0;32mif\u001b[0m \u001b[0mtxt\u001b[0m\u001b[0;34m[\u001b[0m\u001b[0mi\u001b[0m\u001b[0;34m]\u001b[0m \u001b[0;32min\u001b[0m \u001b[0mtarget\u001b[0m \u001b[0;32mand\u001b[0m \u001b[0mi\u001b[0m\u001b[0;34m!=\u001b[0m\u001b[0;36m0\u001b[0m\u001b[0;34m:\u001b[0m\u001b[0;34m\u001b[0m\u001b[0;34m\u001b[0m\u001b[0m\n\u001b[0;32m---> 27\u001b[0;31m             \u001b[0;32mif\u001b[0m \u001b[0mtarget\u001b[0m\u001b[0;34m[\u001b[0m\u001b[0mtxt\u001b[0m\u001b[0;34m[\u001b[0m\u001b[0mj\u001b[0m\u001b[0;34m]\u001b[0m\u001b[0;34m]\u001b[0m \u001b[0;34m==\u001b[0m \u001b[0;36m0\u001b[0m\u001b[0;34m:\u001b[0m\u001b[0;34m\u001b[0m\u001b[0;34m\u001b[0m\u001b[0m\n\u001b[0m\u001b[1;32m     28\u001b[0m                 \u001b[0mcount\u001b[0m\u001b[0;34m=\u001b[0m\u001b[0mcount\u001b[0m\u001b[0;34m+\u001b[0m\u001b[0;36m1\u001b[0m\u001b[0;34m\u001b[0m\u001b[0;34m\u001b[0m\u001b[0m\n\u001b[1;32m     29\u001b[0m             \u001b[0mtarget\u001b[0m\u001b[0;34m[\u001b[0m\u001b[0mtxt\u001b[0m\u001b[0;34m[\u001b[0m\u001b[0mi\u001b[0m\u001b[0;34m]\u001b[0m\u001b[0;34m]\u001b[0m \u001b[0;34m=\u001b[0m \u001b[0mtarget\u001b[0m\u001b[0;34m[\u001b[0m\u001b[0mtxt\u001b[0m\u001b[0;34m[\u001b[0m\u001b[0mi\u001b[0m\u001b[0;34m]\u001b[0m\u001b[0;34m]\u001b[0m \u001b[0;34m+\u001b[0m \u001b[0;36m1\u001b[0m\u001b[0;34m\u001b[0m\u001b[0;34m\u001b[0m\u001b[0m\n",
      "\u001b[0;31mKeyError\u001b[0m: 'q'"
     ]
    }
   ],
   "source": [
    "search(\"abcdefghijklmnopkrstuvwxyz\", \"gvdzvbswujtwzpvqbogzjsrfqcuuxmpczmprhmuamfuqchosbqdujaxvxpujruczfdqqzzuavomjqohpvqpaufsmcsbmruxmgbhcexuxqwhxhfttvjhyzdevfoxujdmzqhxvamqrhvamxzuouopbusubsjzqcqfcrpmpgfcdxcrzxhfbpuhacramjqzqquzjouxmprugduqocpsfsmcvvbmxzhkzjdyvfmbfoipdmeosscqzpvhurumzarpzcvmcgjuxjdqabfpqoomqfmuubhxancnafsxzbubebvnfhlmpctfwmaubbqhpqquafzucpdupcoxzjgvvfxmqrzcoushrjmmsxhujmjpfvsgqopsucozardbzqmrucpbfmucuhqqzmxavcjvofacxfbsuxbqsqhpahuzgqmmrdpvjmcomuqzupuzrrpuusahcvvmhxjzufmfzacrbjqsummrxoqzgocqpdbupqdtsmozwsradrbfapooc\")"
   ]
  },
  {
   "cell_type": "code",
   "execution_count": 211,
   "metadata": {},
   "outputs": [
    {
     "data": {
      "text/plain": [
       "1"
      ]
     },
     "execution_count": 211,
     "metadata": {},
     "output_type": "execute_result"
    }
   ],
   "source": [
    "search(\"kk\", \"kkokkokkokk\")"
   ]
  },
  {
   "cell_type": "code",
   "execution_count": null,
   "metadata": {},
   "outputs": [],
   "source": []
  },
  {
   "cell_type": "code",
   "execution_count": 130,
   "metadata": {},
   "outputs": [],
   "source": [
    "a =\"cujauhfsopxmcmjzumoaqzqvhrmfrbuppqusgvdqzbxc\""
   ]
  },
  {
   "cell_type": "code",
   "execution_count": 132,
   "metadata": {},
   "outputs": [],
   "source": [
    "k = \"abcdefghijklmnopkrstuvwxyz\""
   ]
  },
  {
   "cell_type": "code",
   "execution_count": 134,
   "metadata": {},
   "outputs": [
    {
     "data": {
      "text/plain": [
       "['a',\n",
       " 'a',\n",
       " 'b',\n",
       " 'b',\n",
       " 'c',\n",
       " 'c',\n",
       " 'c',\n",
       " 'd',\n",
       " 'f',\n",
       " 'f',\n",
       " 'g',\n",
       " 'h',\n",
       " 'h',\n",
       " 'j',\n",
       " 'j',\n",
       " 'm',\n",
       " 'm',\n",
       " 'm',\n",
       " 'm',\n",
       " 'o',\n",
       " 'o',\n",
       " 'p',\n",
       " 'p',\n",
       " 'p',\n",
       " 'q',\n",
       " 'q',\n",
       " 'q',\n",
       " 'q',\n",
       " 'r',\n",
       " 'r',\n",
       " 's',\n",
       " 's',\n",
       " 'u',\n",
       " 'u',\n",
       " 'u',\n",
       " 'u',\n",
       " 'u',\n",
       " 'v',\n",
       " 'v',\n",
       " 'x',\n",
       " 'x',\n",
       " 'z',\n",
       " 'z',\n",
       " 'z']"
      ]
     },
     "execution_count": 134,
     "metadata": {},
     "output_type": "execute_result"
    }
   ],
   "source": [
    "sorted(a)"
   ]
  },
  {
   "cell_type": "code",
   "execution_count": 14,
   "metadata": {},
   "outputs": [
    {
     "data": {
      "text/plain": [
       "327"
      ]
     },
     "execution_count": 14,
     "metadata": {},
     "output_type": "execute_result"
    }
   ],
   "source": [
    "sum(ord(i) for i in \"orf\")"
   ]
  },
  {
   "cell_type": "code",
   "execution_count": null,
   "metadata": {},
   "outputs": [],
   "source": []
  }
 ],
 "metadata": {
  "kernelspec": {
   "display_name": "Python 3",
   "language": "python",
   "name": "python3"
  },
  "language_info": {
   "codemirror_mode": {
    "name": "ipython",
    "version": 3
   },
   "file_extension": ".py",
   "mimetype": "text/x-python",
   "name": "python",
   "nbconvert_exporter": "python",
   "pygments_lexer": "ipython3",
   "version": "3.7.4"
  }
 },
 "nbformat": 4,
 "nbformat_minor": 2
}
