{
 "cells": [
  {
   "cell_type": "code",
   "execution_count": 1,
   "metadata": {},
   "outputs": [],
   "source": [
    "from collections import deque\n",
    " \n",
    "class Graph:\n",
    "    # Constructor\n",
    "    def __init__(self, edges, N):\n",
    " \n",
    "        # A List of Lists to represent an adjacency list\n",
    "        self.adjList = [[] for _ in range(N)]\n",
    " \n",
    "        # add edges to the undirected graph\n",
    "        for (src, dest) in edges:\n",
    "            self.adjList[src].append(dest)\n",
    "            self.adjList[dest].append(src)"
   ]
  },
  {
   "cell_type": "code",
   "execution_count": 2,
   "metadata": {},
   "outputs": [],
   "source": [
    "# List of graph edges as per above diagram\n",
    "\n",
    "edges = [(0,2),(0,1), (0,8),\n",
    "    (1,2), (1,5),(1,8),(2,3), (3,4),(5,6),(6,7),(8,9),(9,10)\n",
    "    # vertex 0, 13 and 14 are single nodes\n",
    "]\n"
   ]
  },
  {
   "cell_type": "code",
   "execution_count": 3,
   "metadata": {},
   "outputs": [],
   "source": [
    "def BFS(graph, q, discovered):\n",
    "    if not q:\n",
    "        return\n",
    "    \n",
    "    popped = q.popleft()\n",
    "    print(popped, end = \" | \")\n",
    "    #print(discovered)\n",
    "    discovered[popped] = True\n",
    "    \n",
    "    for neighbour in graph.adjList[popped]:\n",
    "        if not discovered[neighbour] and (neighbour not in q):\n",
    "            q.append(neighbour)\n",
    "    BFS(graph,q, discovered)"
   ]
  },
  {
   "cell_type": "code",
   "execution_count": 4,
   "metadata": {},
   "outputs": [
    {
     "name": "stdout",
     "output_type": "stream",
     "text": [
      "0 | 2 | 1 | 8 | 3 | 5 | 9 | 4 | 6 | 10 | 7 | "
     ]
    }
   ],
   "source": [
    "# Recursive Python implementation of Breadth first search\n",
    "\n",
    "\n",
    "# Set number of vertices in the graph\n",
    "N = 11\n",
    "\n",
    "# create a graph from edges\n",
    "graph = Graph(edges, N)\n",
    "\n",
    "# stores vertex is discovered or not\n",
    "discovered = [False] * N\n",
    "\n",
    "# create a queue used to do BFS\n",
    "q = deque()\n",
    "\n",
    "# Do BFS traversal from all undiscovered nodes to\n",
    "# cover all unconnected components of graph\n",
    "for i in range(N):\n",
    "    if not discovered[i]:\n",
    "        # mark source vertex as discovered\n",
    "        discovered[i] = True\n",
    "\n",
    "        # push source vertex into the queue\n",
    "        q.append(i)\n",
    "\n",
    "        # start BFS traversal from vertex i\n",
    "        BFS(graph, q, discovered)"
   ]
  }
 ],
 "metadata": {
  "kernelspec": {
   "display_name": "Python 3",
   "language": "python",
   "name": "python3"
  },
  "language_info": {
   "codemirror_mode": {
    "name": "ipython",
    "version": 3
   },
   "file_extension": ".py",
   "mimetype": "text/x-python",
   "name": "python",
   "nbconvert_exporter": "python",
   "pygments_lexer": "ipython3",
   "version": "3.7.4"
  }
 },
 "nbformat": 4,
 "nbformat_minor": 2
}
