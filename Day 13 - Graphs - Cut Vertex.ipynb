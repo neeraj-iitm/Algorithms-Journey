{
 "cells": [
  {
   "cell_type": "code",
   "execution_count": 1,
   "metadata": {},
   "outputs": [],
   "source": [
    "class Graph:\n",
    "    def __init__(self,edges,N):\n",
    "        self.adj=[[] for _ in range(N)]\n",
    "        for (src,dst) in edges:\n",
    "            self.adj[src].append(dst)"
   ]
  },
  {
   "cell_type": "code",
   "execution_count": 2,
   "metadata": {},
   "outputs": [],
   "source": [
    "def cutvertex(graph, src,visited,arrival,departure, time):\n",
    "    time += 1\n",
    "    visited[src] = True\n",
    "    arrival[src] = time\n",
    "    \n",
    "    for neigh in graph.adj[src]:\n",
    "        if not visited[neigh]:\n",
    "            time = cutvertex(graph, neigh,visited,arrival,departure, time)\n",
    "    \n",
    "    departure[src] = time +1\n",
    "    return time + 1"
   ]
  },
  {
   "cell_type": "code",
   "execution_count": 3,
   "metadata": {},
   "outputs": [],
   "source": [
    "\n",
    "edges = [(0,1),\n",
    "         (1,2),\n",
    "         (1,3),\n",
    "         (1,4),\n",
    "         (2,5),\n",
    "         (3,4),\n",
    "         (3,6),\n",
    "         (4,7)]\n",
    "N= 8\n",
    "graph = Graph(edges,N)"
   ]
  },
  {
   "cell_type": "code",
   "execution_count": 10,
   "metadata": {},
   "outputs": [
    {
     "data": {
      "text/plain": [
       "15"
      ]
     },
     "execution_count": 10,
     "metadata": {},
     "output_type": "execute_result"
    }
   ],
   "source": [
    "visited = [False]*N\n",
    "arrival = [-1]*N\n",
    "departure = [-1]*N\n",
    "count = [0]\n",
    "cutvertex(graph, 0,visited,arrival,departure, -1)"
   ]
  },
  {
   "cell_type": "code",
   "execution_count": 11,
   "metadata": {},
   "outputs": [
    {
     "data": {
      "text/plain": [
       "[0, 1, 2, 6, 7, 3, 11, 8]"
      ]
     },
     "execution_count": 11,
     "metadata": {},
     "output_type": "execute_result"
    }
   ],
   "source": [
    "arrival"
   ]
  },
  {
   "cell_type": "code",
   "execution_count": 12,
   "metadata": {},
   "outputs": [
    {
     "data": {
      "text/plain": [
       "[15, 14, 5, 13, 10, 4, 12, 9]"
      ]
     },
     "execution_count": 12,
     "metadata": {},
     "output_type": "execute_result"
    }
   ],
   "source": [
    "departure"
   ]
  },
  {
   "cell_type": "markdown",
   "metadata": {},
   "source": [
    "# Day 13\n",
    "\n",
    "Today I solved problem  numbers 10,11 and 14 of Graph Chapter in Narasimha Book. The book is so bad that you prefer to solve the problem yourself than to try to look at solution given in it. So naturally I solved first two problems on my own. The problem asked for printing simple path from source to destination. Second problem extended it to all possible paths. My solution was lengthy. The solution given in book employed Divide and Conquer Strategy. This was the key learning outcome of the day."
   ]
  }
 ],
 "metadata": {
  "kernelspec": {
   "display_name": "Python 3",
   "language": "python",
   "name": "python3"
  },
  "language_info": {
   "codemirror_mode": {
    "name": "ipython",
    "version": 3
   },
   "file_extension": ".py",
   "mimetype": "text/x-python",
   "name": "python",
   "nbconvert_exporter": "python",
   "pygments_lexer": "ipython3",
   "version": "3.7.4"
  }
 },
 "nbformat": 4,
 "nbformat_minor": 2
}
