{
 "cells": [
  {
   "cell_type": "markdown",
   "metadata": {},
   "source": [
    "#### https://youtube.com/playlist?list=PLEJXowNB4kPzByLnnFYNSCoqtFz0VKLk5\n",
    "\n",
    "#### https://medium.com/techie-delight/top-25-depth-first-search-dfs-practice-problems-a620f0ab9faf"
   ]
  },
  {
   "cell_type": "markdown",
   "metadata": {},
   "source": [
    "#### Implementation of Graphs\n",
    "#### https://www.youtube.com/watch?v=j0IYCyBdzfA"
   ]
  },
  {
   "cell_type": "code",
   "execution_count": 40,
   "metadata": {},
   "outputs": [],
   "source": [
    "# This class is copied from \n",
    "# https://www.techiedelight.com/depth-first-search/\n",
    "\n",
    "class Graph:\n",
    "    # Constructor\n",
    "    def __init__(self, edges, N):\n",
    "        # A List of Lists to represent an adjacency list\n",
    "        self.adjList = [[] for _ in range(N)]\n",
    " \n",
    "        # add edges to the undirected graph\n",
    "        for (src, dest) in edges:\n",
    "            self.adjList[src].append(dest)\n",
    "            self.adjList[dest].append(src)"
   ]
  },
  {
   "cell_type": "code",
   "execution_count": 66,
   "metadata": {
    "scrolled": true
   },
   "outputs": [
    {
     "name": "stdout",
     "output_type": "stream",
     "text": [
      "0 | 1 | 2 | 3 | 4 | 5 | 6 | 7 | 8 | 9 | 10 | 11 | 12 | "
     ]
    }
   ],
   "source": [
    "# List of graph edges as per above diagram\n",
    "edges = [\n",
    "    # Notice that node 0 is unconnected node\n",
    "    (1, 2), (1, 7), (1, 8), (2, 3), (2, 6), (3, 4),\n",
    "    (3, 5), (8, 9), (8, 12), (9, 10), (9, 11)\n",
    "]\n",
    "\n",
    "# Set number of vertices in the graph (0-12)\n",
    "N = 13\n",
    "\n",
    "# create a graph from edges\n",
    "graph = Graph(edges, N)\n",
    "\n",
    "# stores vertex is visited or not\n",
    "visited = [False] * N\n",
    "\n",
    "stack = []\n",
    "\n",
    "# Do DFS traversal from all undiscovered nodes to\n",
    "# cover all unconnected components of graph\n",
    "for i in range(N):\n",
    "    if not visited[i]:\n",
    "        DFS(graph, i, visited)\n",
    "# DFS(graph, 3, visited)"
   ]
  },
  {
   "cell_type": "code",
   "execution_count": 64,
   "metadata": {},
   "outputs": [],
   "source": [
    "def DFS(graph, node, visited):\n",
    "    \n",
    "    visited[node] = True\n",
    "    print(node, end = \" | \")\n",
    "    for childnode in graph.adjList[node]:\n",
    "        if visited[childnode]:\n",
    "            pass\n",
    "        else:\n",
    "            return DFS(graph, childnode, visited)\n",
    "    "
   ]
  }
 ],
 "metadata": {
  "kernelspec": {
   "display_name": "Python 3",
   "language": "python",
   "name": "python3"
  },
  "language_info": {
   "codemirror_mode": {
    "name": "ipython",
    "version": 3
   },
   "file_extension": ".py",
   "mimetype": "text/x-python",
   "name": "python",
   "nbconvert_exporter": "python",
   "pygments_lexer": "ipython3",
   "version": "3.7.4"
  }
 },
 "nbformat": 4,
 "nbformat_minor": 2
}
