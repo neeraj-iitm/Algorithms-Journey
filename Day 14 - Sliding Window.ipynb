{
 "cells": [
  {
   "cell_type": "code",
   "execution_count": 124,
   "metadata": {},
   "outputs": [],
   "source": [
    "def sliding_window(array, k):\n",
    "    i=0\n",
    "    j=0\n",
    "    n=len(array)\n",
    "    dummy = -1\n",
    "    stack = []\n",
    "    while j<k-1:\n",
    "        if array[j]<0 :\n",
    "            stack.append(j)\n",
    "        j=j+1\n",
    "    if stack :\n",
    "        dummy = stack.pop(0)\n",
    "        \n",
    "    while j < n:\n",
    "        \n",
    "        if array[j]<0:\n",
    "            stack.append(j)\n",
    "            \n",
    "        if i >=  dummy and stack:\n",
    "            dummy = stack.pop(0)\n",
    "                   \n",
    "        if array[i] < 0 :\n",
    "            print(array[i], end= \" | \")\n",
    "            \n",
    "        elif array[i]>=0 and dummy>=i:\n",
    "            print(array[dummy], end = \" | \")\n",
    "            \n",
    "        else:\n",
    "            print(\"N\", end= \" | \")\n",
    "            \n",
    "        i=i+1\n",
    "        j=j+1"
   ]
  },
  {
   "cell_type": "code",
   "execution_count": 125,
   "metadata": {},
   "outputs": [
    {
     "name": "stdout",
     "output_type": "stream",
     "text": [
      "-2 | -2 | -3 | N | -7 | -7 | -7 | -10 | -10 | -10 | -11 | "
     ]
    }
   ],
   "source": [
    "array = [1,-2,-3,4,5,6,-7,8,9,-10,-11,12,13]\n",
    "sliding_window(array,3)"
   ]
  },
  {
   "cell_type": "markdown",
   "metadata": {},
   "source": []
  }
 ],
 "metadata": {
  "kernelspec": {
   "display_name": "Python 3",
   "language": "python",
   "name": "python3"
  },
  "language_info": {
   "codemirror_mode": {
    "name": "ipython",
    "version": 3
   },
   "file_extension": ".py",
   "mimetype": "text/x-python",
   "name": "python",
   "nbconvert_exporter": "python",
   "pygments_lexer": "ipython3",
   "version": "3.7.4"
  }
 },
 "nbformat": 4,
 "nbformat_minor": 2
}
