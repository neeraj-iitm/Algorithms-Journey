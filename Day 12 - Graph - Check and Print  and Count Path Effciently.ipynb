{
 "cells": [
  {
   "cell_type": "code",
   "execution_count": 54,
   "metadata": {},
   "outputs": [],
   "source": [
    "class Graph:\n",
    "    def __init__(self, edges, N):\n",
    "        self.adj = [[] for __ in range(N)]\n",
    "        \n",
    "        for (src, dest) in edges:\n",
    "            self.adj[src].append(dest)"
   ]
  },
  {
   "cell_type": "code",
   "execution_count": 62,
   "metadata": {},
   "outputs": [],
   "source": [
    "def getAllPaths(graph, source, dest,allpath, path=[]):\n",
    "    path = path + [source]\n",
    "    if source == dest:\n",
    "        return path\n",
    "    \n",
    "    for neighbour in graph.adj[source]:\n",
    "        extendedpath = getAllPaths(graph,neighbour,dest,allpath,path)\n",
    "        if extendedpath:\n",
    "            allpath.append(extendedpath)\n",
    "    \n",
    "    return None"
   ]
  },
  {
   "cell_type": "code",
   "execution_count": 63,
   "metadata": {},
   "outputs": [],
   "source": [
    "edges=[(0,1),(1,2),(1,3),(1,4),(2,5),(2,9),(3,7),(3,9),(4,9),(9,10)]\n",
    "N= 11\n",
    "graph = Graph(edges,N)"
   ]
  },
  {
   "cell_type": "code",
   "execution_count": 64,
   "metadata": {},
   "outputs": [],
   "source": [
    "allpath = []\n",
    "getAllPaths(graph,0,10, allpath)"
   ]
  },
  {
   "cell_type": "code",
   "execution_count": 65,
   "metadata": {},
   "outputs": [
    {
     "data": {
      "text/plain": [
       "[[0, 1, 2, 9, 10], [0, 1, 3, 9, 10], [0, 1, 4, 9, 10]]"
      ]
     },
     "execution_count": 65,
     "metadata": {},
     "output_type": "execute_result"
    }
   ],
   "source": [
    "allpath"
   ]
  },
  {
   "cell_type": "code",
   "execution_count": null,
   "metadata": {},
   "outputs": [],
   "source": []
  }
 ],
 "metadata": {
  "kernelspec": {
   "display_name": "Python 3",
   "language": "python",
   "name": "python3"
  },
  "language_info": {
   "codemirror_mode": {
    "name": "ipython",
    "version": 3
   },
   "file_extension": ".py",
   "mimetype": "text/x-python",
   "name": "python",
   "nbconvert_exporter": "python",
   "pygments_lexer": "ipython3",
   "version": "3.7.4"
  }
 },
 "nbformat": 4,
 "nbformat_minor": 2
}
