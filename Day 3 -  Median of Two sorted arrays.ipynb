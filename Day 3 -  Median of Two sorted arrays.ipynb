{
 "cells": [
  {
   "cell_type": "markdown",
   "metadata": {},
   "source": [
    "##### https://medium.com/@hazemu/finding-the-median-of-2-sorted-arrays-in-logarithmic-time-1d3f2ecbeb46\n",
    "\n",
    "## How do we find the correct split in logarithmic time?\n",
    "\n",
    "We use the concept of binary search to reduce the number of possibilities we consider. It may not be very obvious how binary search is relevant, so let’s take a moment to understand this.\n",
    "\n",
    "In essence, what we’re trying to find is the number of values each of A and B will contribute to the left half of A ∪ B. But since we know the size of this half in advance, (m + n)/2, we can simplify our objective by saying we’re only interested in the number of values A is contributing. For instance, in our example, if we know A is contributing four values, then it follows that B is contributing two, since the left half of A ∪ B has a total length of six.\n",
    "\n",
    "This leads us to the following question: what is the minimum and maximum number of values can A contribute? In our example, A must contribute at least one value; the size of the left half of A ∪ B is six, and B has five values only. On the other hand, A can contribute all of its six values to the left half of A ∪ B, which could happen if all the values in A were smaller than those in B. This is to say we can find the median of A ∪ B if we know A’s contribution size, which is an integer in the range [1, 6]. Now instead of trying out all the possible sizes from 1 to 6, we can use binary search, i.e.\n",
    "\n",
    "1. Set A’s minimum and maximum contribution sizes to 1 and 6, respectively (min = 1, max = 6).\n",
    "\n",
    "\n",
    "2. Consider the midpoint between min and max, mid = (1 + 6)/2 = 3. Check to see if our conditions for finding the median are met if A’s contribution size is equal to mid (by performing the comparisons we discussed in the answer to question 4). If so, then we found the solution, and we know the median is the greater of the greatest values contributed by A and B.\n",
    "\n",
    "\n",
    "3. Otherwise, we can adjust min to mid + 1 or max to mid − 1 based on comparing A’s greatest contributed value, B’s greatest contributed value, and the value that succeeds the smaller of the two."
   ]
  },
  {
   "cell_type": "code",
   "execution_count": 141,
   "metadata": {},
   "outputs": [],
   "source": [
    "def med1(a,n1,b,n2):\n",
    "    \n",
    "    if n1 > n2:\n",
    "        a, b, n1, n2 = b, a, n2, n1\n",
    "    \n",
    "    \n",
    "    \n",
    "    "
   ]
  },
  {
   "cell_type": "code",
   "execution_count": null,
   "metadata": {
    "scrolled": true
   },
   "outputs": [],
   "source": [
    "import random\n",
    "import statistics\n",
    "\n",
    "\n",
    "for _ in range(100):\n",
    "    print(_,  end = \" \")\n",
    "    a = list(range(0,random.randint(0,60),3))\n",
    "#     a= [415, 635]\n",
    "    b = list(range(0,random.randint(0,60),2))\n",
    "    T=statistics.median(sorted(a+b)) == med1(a,len(a),b,len(b))\n",
    "    if not T:\n",
    "        print(a)\n",
    "        print(b)\n",
    "        print(med1(a,len(a),b,len(b)))\n",
    "        print(statistics.median(sorted(a+b)))\n",
    "        print(\"---\"*20)"
   ]
  },
  {
   "cell_type": "code",
   "execution_count": 133,
   "metadata": {},
   "outputs": [],
   "source": [
    "def med2(A,m, B,n):\n",
    "#     m, n = len(A), len(B)\n",
    "    \n",
    "    if m > n:\n",
    "        A, B, m, n = B, A, n, m\n",
    "    if n == 0:\n",
    "        raise ValueError\n",
    "\n",
    "    \n",
    "    imin, imax, half_len = 0, m, (m + n + 1) // 2\n",
    "    \n",
    "    while imin <= imax:\n",
    "        i = (imin + imax) // 2\n",
    "        j = half_len - i\n",
    "        if i < m and B[j-1] > A[i]:\n",
    "            # i is too small, must increase it\n",
    "            imin = i + 1\n",
    "        elif i > 0 and A[i-1] > B[j]:\n",
    "            # i is too big, must decrease it\n",
    "            imax = i - 1\n",
    "        else:\n",
    "            # i is perfect\n",
    "\n",
    "            if i == 0: max_of_left = B[j-1]\n",
    "            elif j == 0: max_of_left = A[i-1]\n",
    "            else: max_of_left = max(A[i-1], B[j-1])\n",
    "\n",
    "            if (m + n) % 2 == 1:\n",
    "                return max_of_left\n",
    "\n",
    "            if i == m: min_of_right = B[j]\n",
    "            elif j == n: min_of_right = A[i]\n",
    "            else: min_of_right = min(A[i], B[j])\n",
    "\n",
    "            return (max_of_left + min_of_right) / 2.0"
   ]
  },
  {
   "cell_type": "code",
   "execution_count": 7,
   "metadata": {},
   "outputs": [
    {
     "data": {
      "text/plain": [
       "0"
      ]
     },
     "execution_count": 7,
     "metadata": {},
     "output_type": "execute_result"
    }
   ],
   "source": [
    "1%1"
   ]
  },
  {
   "cell_type": "code",
   "execution_count": null,
   "metadata": {},
   "outputs": [],
   "source": []
  },
  {
   "cell_type": "code",
   "execution_count": null,
   "metadata": {},
   "outputs": [],
   "source": []
  },
  {
   "cell_type": "code",
   "execution_count": null,
   "metadata": {},
   "outputs": [],
   "source": []
  },
  {
   "cell_type": "code",
   "execution_count": null,
   "metadata": {},
   "outputs": [],
   "source": []
  },
  {
   "cell_type": "code",
   "execution_count": 42,
   "metadata": {},
   "outputs": [],
   "source": [
    "def median1(a,n1,b,n2):\n",
    "    n= len(a)+len(b)\n",
    "    median = n//2\n",
    "    mins = min(n1,n2)\n",
    "    i=0\n",
    "    j=0\n",
    "    k=0\n",
    "    \n",
    "    latest = 0\n",
    "    prevlatest = 0\n",
    "    \n",
    "    while k<=median and i<mins and j<mins:\n",
    "        if a[i]>=b[j]:\n",
    "            j=j+1\n",
    "            k=k+1\n",
    "            prevlatest= latest\n",
    "            latest = a[i]\n",
    "        else:\n",
    "            i=i+1\n",
    "            k=k+1\n",
    "            prevlatest= latest\n",
    "            latest = b[j]\n",
    "        if k==median:\n",
    "            k=k+1\n",
    "            break\n",
    "    \n",
    "    if i == mins and k!=median:\n",
    "        prevlatest= b[median-i-3]\n",
    "        latest = b[median - i -2]\n",
    "    \n",
    "    if j == mins and k!=median:\n",
    "        prevlatest= a[median-j-3]\n",
    "        latest = a[median - j -2]\n",
    "    print(\"\\n\\n\",prevlatest, latest)\n",
    "    if n%2==0:\n",
    "        return (prevlatest + latest)/2\n",
    "    else:\n",
    "        return latest\n",
    "    \n",
    "    \n",
    "    "
   ]
  },
  {
   "cell_type": "code",
   "execution_count": null,
   "metadata": {},
   "outputs": [],
   "source": []
  },
  {
   "cell_type": "code",
   "execution_count": 25,
   "metadata": {},
   "outputs": [],
   "source": [
    "def merge(a,b):\n",
    "    n= len(a)+len(b)\n",
    "    n1=len(a)\n",
    "    n2=len(b)\n",
    "    median = n//2\n",
    "    i=0\n",
    "    j=0\n",
    "    k=0\n",
    "    latest = 0\n",
    "    prevlatest = 0\n",
    "    while k!=median :\n",
    "        if i==len(a):\n",
    "            \n",
    "            prevlatest= b[n2 - (j+ median - k - 1)%n2]\n",
    "            latest = b[n2- (j+median - k)%n2]\n",
    "            break\n",
    "        if j==len(b):\n",
    "            rest= median - j \n",
    "            prevlatest= a[n1-(i+median - k -1)%n1]\n",
    "            latest = a[n1-(i+median - k )%n1]\n",
    "            break\n",
    "        \n",
    "        if a[i]>=b[j]:\n",
    "            j=j+1\n",
    "            k=k+1\n",
    "            prevlatest= latest\n",
    "            latest = a[i]\n",
    "        else:\n",
    "            i=i+1\n",
    "            k=k+1\n",
    "            prevlatest= latest\n",
    "            latest = b[j]\n",
    "    if n%2==0:\n",
    "        return (prevlatest + latest)/2\n",
    "    else:\n",
    "        return latest"
   ]
  },
  {
   "cell_type": "code",
   "execution_count": null,
   "metadata": {},
   "outputs": [],
   "source": []
  }
 ],
 "metadata": {
  "kernelspec": {
   "display_name": "Python 3",
   "language": "python",
   "name": "python3"
  },
  "language_info": {
   "codemirror_mode": {
    "name": "ipython",
    "version": 3
   },
   "file_extension": ".py",
   "mimetype": "text/x-python",
   "name": "python",
   "nbconvert_exporter": "python",
   "pygments_lexer": "ipython3",
   "version": "3.7.4"
  }
 },
 "nbformat": 4,
 "nbformat_minor": 2
}
