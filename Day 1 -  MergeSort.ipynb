{
 "cells": [
  {
   "cell_type": "markdown",
   "metadata": {},
   "source": [
    "## Prob 1"
   ]
  },
  {
   "cell_type": "markdown",
   "metadata": {},
   "source": [
    "url = https://www.hackerrank.com/contests/hw1/challenges/merge-sort"
   ]
  },
  {
   "cell_type": "code",
   "execution_count": 13,
   "metadata": {},
   "outputs": [],
   "source": [
    "def merge(arr, start, mid, end):\n",
    "\n",
    "    n1 = mid - start + 1\n",
    "    n2 = end - mid \n",
    "    L = [0]*n1 \n",
    "    R = [0]*n2 \n",
    "\n",
    "    for i in range(0 , n1): \n",
    "        L[i] = arr[start + i] \n",
    "    for j in range(0 , n2): \n",
    "        R[j] = arr[mid + 1 + j]\n",
    "\n",
    "    i=0\n",
    "    j=0\n",
    "    k=start\n",
    "    \n",
    "    while i < len(L) and j<len(R):\n",
    "        if L[i]<R[j]:\n",
    "            arr[k] = L[i]\n",
    "            i=i+1\n",
    "        else:\n",
    "            arr[k] = R[j]\n",
    "            j=j+1\n",
    "        k=k+1\n",
    "    \n",
    "    while i < len(L):\n",
    "        arr[k] = L[i]\n",
    "        i = i+1\n",
    "        k=k+1\n",
    "    \n",
    "    while j < len(R):\n",
    "        arr[k] = R[j]\n",
    "        j = j+1\n",
    "        k=k+1\n",
    "\n",
    "def mergeSort(arr,l,r): \n",
    "    if l < r: \n",
    "        m = (l+(r-1))//2\n",
    "        mergeSort(arr, l, m) \n",
    "        mergeSort(arr, m+1, r) \n",
    "        merge(arr, l, m, r) "
   ]
  },
  {
   "cell_type": "code",
   "execution_count": 2,
   "metadata": {},
   "outputs": [
    {
     "name": "stdout",
     "output_type": "stream",
     "text": [
      "[11, 18, 16, 7, 4, 0, 1, 19, 17, 12]\n"
     ]
    }
   ],
   "source": [
    "from random import sample\n",
    "a= sample(range(20),10)\n",
    "print(a)"
   ]
  },
  {
   "cell_type": "code",
   "execution_count": 3,
   "metadata": {},
   "outputs": [
    {
     "data": {
      "text/plain": [
       "[0, 1, 4, 7, 11, 12, 16, 17, 18, 19]"
      ]
     },
     "execution_count": 3,
     "metadata": {},
     "output_type": "execute_result"
    }
   ],
   "source": [
    "mergeSort(a, 0, len(a)-1)\n",
    "a"
   ]
  },
  {
   "cell_type": "markdown",
   "metadata": {},
   "source": [
    "## Prob 2"
   ]
  },
  {
   "cell_type": "code",
   "execution_count": 4,
   "metadata": {},
   "outputs": [],
   "source": [
    "c = [\"a\",\"sds\",\"Sd\",\"Agfe\",\"b\",\"f\",\"fdsr\",\"as\"]"
   ]
  },
  {
   "cell_type": "code",
   "execution_count": 23,
   "metadata": {},
   "outputs": [],
   "source": [
    "b= ['ab', 'cd', 'e', 'j', 'asd', 'ljffg', 'df']"
   ]
  },
  {
   "cell_type": "code",
   "execution_count": 25,
   "metadata": {},
   "outputs": [
    {
     "data": {
      "text/plain": [
       "['ab', 'cd', 'e', 'j', 'asd', 'ljffg', 'df']"
      ]
     },
     "execution_count": 25,
     "metadata": {},
     "output_type": "execute_result"
    }
   ],
   "source": [
    "b"
   ]
  },
  {
   "cell_type": "code",
   "execution_count": 28,
   "metadata": {},
   "outputs": [],
   "source": [
    "def mergeS(arr, start, mid, end):\n",
    "\n",
    "    n1 = mid - start + 1\n",
    "    n2 = end - mid \n",
    "    L = [0]*n1 \n",
    "    R = [0]*n2 \n",
    "\n",
    "    for i in range(0 , n1): \n",
    "        L[i] = arr[start + i] \n",
    "    for j in range(0 , n2): \n",
    "        R[j] = arr[mid + 1 + j]\n",
    "\n",
    "    i=0\n",
    "    j=0\n",
    "    k=start\n",
    "    \n",
    "    while i < len(L) and j<len(R):\n",
    "        if len(L[i])<len(R[j]):\n",
    "            arr[k] = L[i]\n",
    "            i=i+1\n",
    "        else:\n",
    "            arr[k] = R[j]\n",
    "            j=j+1\n",
    "        k=k+1\n",
    "    \n",
    "    while i < len(L):\n",
    "        arr[k] = L[i]\n",
    "        i = i+1\n",
    "        k=k+1\n",
    "    \n",
    "    while j < len(R):\n",
    "        arr[k] = R[j]\n",
    "        j = j+1\n",
    "        k=k+1\n",
    "\n",
    "def mergeSortS(arr,l,r): \n",
    "    if l < r: \n",
    "        m = (l+(r-1))//2\n",
    "        mergeSortS(arr, l, m) \n",
    "        mergeSortS(arr, m+1, r) \n",
    "        mergeS(arr, l, m, r) "
   ]
  },
  {
   "cell_type": "code",
   "execution_count": 36,
   "metadata": {},
   "outputs": [],
   "source": [
    "mergeSortS(b,0, len(b)-1)"
   ]
  },
  {
   "cell_type": "code",
   "execution_count": 34,
   "metadata": {},
   "outputs": [],
   "source": [
    "mergeSort(b,0, len(b)-1)"
   ]
  },
  {
   "cell_type": "code",
   "execution_count": 37,
   "metadata": {},
   "outputs": [
    {
     "data": {
      "text/plain": [
       "['j', 'e', 'df', 'cd', 'ab', 'asd', 'ljffg']"
      ]
     },
     "execution_count": 37,
     "metadata": {},
     "output_type": "execute_result"
    }
   ],
   "source": [
    "b"
   ]
  },
  {
   "cell_type": "code",
   "execution_count": 1,
   "metadata": {},
   "outputs": [],
   "source": [
    "s = [[5, 3, 4], [1, 5, 8], [6, 4, 2]] "
   ]
  },
  {
   "cell_type": "code",
   "execution_count": 11,
   "metadata": {},
   "outputs": [
    {
     "data": {
      "text/plain": [
       "[6, 4, 2, 5, 3, 4, 1, 5, 8, 6, 4, 2]"
      ]
     },
     "execution_count": 11,
     "metadata": {},
     "output_type": "execute_result"
    }
   ],
   "source": [
    "sum(s,s[2])"
   ]
  },
  {
   "cell_type": "code",
   "execution_count": 9,
   "metadata": {},
   "outputs": [
    {
     "data": {
      "text/plain": [
       "[1, 5, 8, 6, 4, 2]"
      ]
     },
     "execution_count": 9,
     "metadata": {},
     "output_type": "execute_result"
    }
   ],
   "source": [
    "s[1]+s[2]"
   ]
  },
  {
   "cell_type": "code",
   "execution_count": 25,
   "metadata": {},
   "outputs": [
    {
     "data": {
      "text/plain": [
       "8"
      ]
     },
     "execution_count": 25,
     "metadata": {},
     "output_type": "execute_result"
    }
   ],
   "source": [
    "sum(sum(s, []))-30"
   ]
  },
  {
   "cell_type": "code",
   "execution_count": 18,
   "metadata": {},
   "outputs": [
    {
     "data": {
      "text/plain": [
       "-2"
      ]
     },
     "execution_count": 18,
     "metadata": {},
     "output_type": "execute_result"
    }
   ],
   "source": [
    "len(set(sum(s, [])))-9"
   ]
  },
  {
   "cell_type": "code",
   "execution_count": 12,
   "metadata": {},
   "outputs": [
    {
     "name": "stdout",
     "output_type": "stream",
     "text": [
      "    4 8 2      4 5 7      6 1 6\n"
     ]
    },
    {
     "data": {
      "text/plain": [
       "43"
      ]
     },
     "execution_count": 12,
     "metadata": {},
     "output_type": "execute_result"
    }
   ],
   "source": [
    "sum(list(map(int, input().split())))"
   ]
  },
  {
   "cell_type": "code",
   "execution_count": 20,
   "metadata": {},
   "outputs": [
    {
     "data": {
      "text/plain": [
       "30.0"
      ]
     },
     "execution_count": 20,
     "metadata": {},
     "output_type": "execute_result"
    }
   ],
   "source": [
    "3*2*10/2"
   ]
  },
  {
   "cell_type": "code",
   "execution_count": 34,
   "metadata": {},
   "outputs": [
    {
     "name": "stdout",
     "output_type": "stream",
     "text": [
      "[[0, 10, 9], [0, 10, 9], [0, 10, 9]]\n"
     ]
    }
   ],
   "source": [
    "n=3\n",
    "k=[[0]*n]*n\n",
    "i = n//2\n",
    "j = n-1\n",
    "el=1\n",
    "for _ in range(10):\n",
    "    k[i][j]=el\n",
    "    el=el+1\n",
    "    if i-1 != -1:\n",
    "        i=i-1\n",
    "    else:\n",
    "        i=0\n",
    "    if j+1 == n:\n",
    "        j= n-2\n",
    "    else:\n",
    "        j=j+1\n",
    "print(k)    "
   ]
  },
  {
   "cell_type": "code",
   "execution_count": null,
   "metadata": {},
   "outputs": [],
   "source": []
  }
 ],
 "metadata": {
  "kernelspec": {
   "display_name": "Python 3",
   "language": "python",
   "name": "python3"
  },
  "language_info": {
   "codemirror_mode": {
    "name": "ipython",
    "version": 3
   },
   "file_extension": ".py",
   "mimetype": "text/x-python",
   "name": "python",
   "nbconvert_exporter": "python",
   "pygments_lexer": "ipython3",
   "version": "3.7.4"
  }
 },
 "nbformat": 4,
 "nbformat_minor": 2
}
