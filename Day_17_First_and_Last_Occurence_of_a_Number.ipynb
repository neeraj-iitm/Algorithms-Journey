{
  "nbformat": 4,
  "nbformat_minor": 0,
  "metadata": {
    "colab": {
      "name": "Day 17 - First and Last Occurence of a Number.ipynb",
      "provenance": [],
      "authorship_tag": "ABX9TyN9wdo8Ff6YCc7CpDuZ2Fjj",
      "include_colab_link": true
    },
    "kernelspec": {
      "name": "python3",
      "display_name": "Python 3"
    }
  },
  "cells": [
    {
      "cell_type": "markdown",
      "metadata": {
        "id": "view-in-github",
        "colab_type": "text"
      },
      "source": [
        "<a href=\"https://colab.research.google.com/github/neeraj-iitm/Algorithms-Journey/blob/master/Day_17_First_and_Last_Occurence_of_a_Number.ipynb\" target=\"_parent\"><img src=\"https://colab.research.google.com/assets/colab-badge.svg\" alt=\"Open In Colab\"/></a>"
      ]
    },
    {
      "cell_type": "code",
      "metadata": {
        "id": "_QGvy2ah5ewF"
      },
      "source": [
        "class Solution:\n",
        "\n",
        "    def eii(self, nums, target, left):\n",
        "        lo = 0\n",
        "        hi = len(nums)\n",
        "\n",
        "        while lo < hi:\n",
        "            mid = (lo + hi) // 2\n",
        "            if nums[mid] > target or (left and target == nums[mid]):\n",
        "                hi = mid\n",
        "            else:\n",
        "                lo = mid+1\n",
        "\n",
        "        return lo\n",
        "\n",
        "\n",
        "    def searchRange(self, nums, target):\n",
        "        left_idx = self.eii(nums, target, True)\n",
        "\n",
        "        if left_idx == len(nums) or nums[left_idx] != target:\n",
        "            return [-1, -1]\n",
        "\n",
        "        return [left_idx, self.eii(nums, target, False) - 1]"
      ],
      "execution_count": 14,
      "outputs": []
    },
    {
      "cell_type": "code",
      "metadata": {
        "colab": {
          "base_uri": "https://localhost:8080/"
        },
        "id": "2cjePuIe5z1l",
        "outputId": "44364a1d-5bb5-465c-b91e-d410831c4f71"
      },
      "source": [
        "x= [0,0,1,1,2,2,3,4,4,4,4,4,4,4,4,4,4,4,4,4,4,4,4,5,5,5,6,6,7,8,9,9,9]\n",
        "ob =Solution()\n",
        "ob.searchRange(x,10)"
      ],
      "execution_count": 17,
      "outputs": [
        {
          "output_type": "execute_result",
          "data": {
            "text/plain": [
              "[-1, -1]"
            ]
          },
          "metadata": {
            "tags": []
          },
          "execution_count": 17
        }
      ]
    },
    {
      "cell_type": "code",
      "metadata": {
        "id": "ukK97Gp06asH"
      },
      "source": [
        ""
      ],
      "execution_count": null,
      "outputs": []
    }
  ]
}