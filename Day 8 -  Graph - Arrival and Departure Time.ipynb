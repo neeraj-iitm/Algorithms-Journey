{
 "cells": [
  {
   "cell_type": "markdown",
   "metadata": {},
   "source": [
    "### Arrival and Departure Time\n",
    "\n",
    "edges = [(0, 1), (0, 2), (2, 3), (2, 4), (3, 1), (3, 5), (4, 5), (6, 7)]\n"
   ]
  },
  {
   "cell_type": "markdown",
   "metadata": {},
   "source": [
    "![image](https://www.techiedelight.com/wp-content/uploads/2016/11/Arrival-Departure-Time.png)\n",
    "\n",
    "https://www.techiedelight.com/arrival-departure-time-vertices-dfs/"
   ]
  },
  {
   "cell_type": "code",
   "execution_count": 141,
   "metadata": {},
   "outputs": [],
   "source": [
    "# Class to represent a graph object\n",
    "class Graph:\n",
    "    def __init__(self, edges, N):\n",
    " \n",
    "        # A List of Lists to represent an adjacency list\n",
    "        self.adjList = [[] for _ in range(N)]\n",
    " \n",
    "        # add edges to the undirected graph\n",
    "        for (src, dest) in edges:\n",
    "            self.adjList[src].append(dest)\n"
   ]
  },
  {
   "cell_type": "code",
   "execution_count": 122,
   "metadata": {},
   "outputs": [],
   "source": [
    "# edges=[(0,1),(1,2),(1,3),(1,4),(2,7),(3,5),(3,6),(3,7),(4,6)]\n",
    "edges = [(0,1),(1,2),(1,3) ]"
   ]
  },
  {
   "cell_type": "code",
   "execution_count": 131,
   "metadata": {},
   "outputs": [],
   "source": [
    "def DFS(graph,node, visited, departure, time):\n",
    "\n",
    "    visited[node]=True\n",
    "    print(node, end=\" | \")\n",
    "    \n",
    "    for padosi in graph.adjList[node]:\n",
    "        if not visited[padosi]:\n",
    "            time = DFS(graph,padosi,visited,departure,time) + 1\n",
    "    \n",
    "    departure[node] = time + 1\n",
    "    \n",
    "    return time + 1"
   ]
  },
  {
   "cell_type": "code",
   "execution_count": 145,
   "metadata": {},
   "outputs": [
    {
     "name": "stdout",
     "output_type": "stream",
     "text": [
      "Vertex 0 (0, 11)\n",
      "Vertex 1 (1, 2)\n",
      "Vertex 2 (3, 10)\n",
      "Vertex 3 (4, 7)\n",
      "Vertex 4 (8, 9)\n",
      "Vertex 5 (5, 6)\n",
      "Vertex 6 (12, 15)\n",
      "Vertex 7 (13, 14)\n"
     ]
    }
   ],
   "source": [
    "\n",
    "# Function to perform DFS Traversal\n",
    "def DFS(graph, v, discovered, arrival, departure, time):\n",
    " \n",
    "    time = time + 1\n",
    " \n",
    "    # set arrival time of vertex v\n",
    "    arrival[v] = time\n",
    " \n",
    "    # mark vertex as discovered\n",
    "    discovered[v] = True\n",
    " \n",
    "    for i in graph.adjList[v]:\n",
    "        if not discovered[i]:\n",
    "            time = DFS(graph, i, discovered, arrival, departure, time)\n",
    " \n",
    "    time = time + 1\n",
    " \n",
    "    # set departure time of vertex v\n",
    "    departure[v] = time\n",
    " \n",
    "    return time\n",
    " \n",
    "\n",
    "\n",
    "# List of graph edges as per above diagram\n",
    "edges = [(0, 1), (0, 2), (2, 3), (2, 4), (3, 1), (3, 5), (4, 5), (6, 7)]\n",
    "\n",
    "# Set number of vertices in the graph\n",
    "N = 8\n",
    "\n",
    "# create a graph from edges\n",
    "graph = Graph(edges, N)\n",
    "\n",
    "# list to store arrival time of vertex\n",
    "arrival = [None] * N\n",
    "\n",
    "# list to store departure time of vertex\n",
    "departure = [None] * N\n",
    "\n",
    "# Mark all the vertices as not discovered\n",
    "discovered = [False] * N\n",
    "time = -1\n",
    "\n",
    "# Do DFS traversal from all undiscovered nodes to\n",
    "# cover all unconnected components of graph\n",
    "for i in range(N):\n",
    "    if not discovered[i]:\n",
    "        time = DFS(graph, i, discovered, arrival, departure, time)\n",
    "\n",
    "# print arrival and departure time of each vertex in DFS\n",
    "for i in range(N):\n",
    "    print(\"Vertex\", i, (arrival[i], departure[i]))"
   ]
  },
  {
   "cell_type": "code",
   "execution_count": 144,
   "metadata": {},
   "outputs": [
    {
     "data": {
      "text/plain": [
       "[[1, 2], [], [3, 4], [5], [5], [], [7], []]"
      ]
     },
     "execution_count": 144,
     "metadata": {},
     "output_type": "execute_result"
    }
   ],
   "source": [
    "graph.adjList"
   ]
  },
  {
   "cell_type": "code",
   "execution_count": 133,
   "metadata": {},
   "outputs": [
    {
     "ename": "TypeError",
     "evalue": "list indices must be integers or slices, not NoneType",
     "output_type": "error",
     "traceback": [
      "\u001b[0;31m---------------------------------------------------------------------------\u001b[0m",
      "\u001b[0;31mTypeError\u001b[0m                                 Traceback (most recent call last)",
      "\u001b[0;32m<ipython-input-133-2b16af369614>\u001b[0m in \u001b[0;36m<module>\u001b[0;34m\u001b[0m\n\u001b[0;32m----> 1\u001b[0;31m \u001b[0mvisited\u001b[0m\u001b[0;34m[\u001b[0m\u001b[0;32mNone\u001b[0m\u001b[0;34m]\u001b[0m\u001b[0;34m\u001b[0m\u001b[0;34m\u001b[0m\u001b[0m\n\u001b[0m",
      "\u001b[0;31mTypeError\u001b[0m: list indices must be integers or slices, not NoneType"
     ]
    }
   ],
   "source": [
    "visited[None]"
   ]
  },
  {
   "cell_type": "code",
   "execution_count": 138,
   "metadata": {},
   "outputs": [],
   "source": [
    "for i in graph.adjList[2]:\n",
    "    print(\"10\")"
   ]
  },
  {
   "cell_type": "code",
   "execution_count": null,
   "metadata": {},
   "outputs": [],
   "source": []
  }
 ],
 "metadata": {
  "kernelspec": {
   "display_name": "Python 3",
   "language": "python",
   "name": "python3"
  },
  "language_info": {
   "codemirror_mode": {
    "name": "ipython",
    "version": 3
   },
   "file_extension": ".py",
   "mimetype": "text/x-python",
   "name": "python",
   "nbconvert_exporter": "python",
   "pygments_lexer": "ipython3",
   "version": "3.7.4"
  }
 },
 "nbformat": 4,
 "nbformat_minor": 2
}
