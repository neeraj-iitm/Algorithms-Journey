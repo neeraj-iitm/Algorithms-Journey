{
 "cells": [
  {
   "cell_type": "markdown",
   "metadata": {},
   "source": [
    "### DAC\n",
    "This video has good notations for Departure time notations.\n",
    "\n",
    "https://www.youtube.com/watch?v=Y78KivF-hm0"
   ]
  },
  {
   "cell_type": "markdown",
   "metadata": {},
   "source": [
    "edges = [(0, 1), (0, 3), (1, 2), (1, 3), (3, 2), (3, 4), (3, 0), (5, 6), (6, 3)]\n",
    "\n",
    "![image](https://www.techiedelight.com/wp-content/uploads/2016/11/Back-edge-in-directed-graph.png)"
   ]
  },
  {
   "cell_type": "code",
   "execution_count": 1,
   "metadata": {},
   "outputs": [],
   "source": [
    "# Class to represent a graph object\n",
    "class Graph:\n",
    "    # Constructor\n",
    "    def __init__(self, edges, N):\n",
    " \n",
    "        # A List of Lists to represent an adjacency list\n",
    "        self.adjList = [[] for _ in range(N)]\n",
    " \n",
    "        # add edges to the undirected graph\n",
    "        for (src, dest) in edges:\n",
    "            self.adjList[src].append(dest)\n",
    " "
   ]
  },
  {
   "cell_type": "code",
   "execution_count": 5,
   "metadata": {},
   "outputs": [],
   "source": [
    "def DFS(graph,v,discovered, departure, time):\n",
    "    \n",
    "    discovered[v] = True\n",
    "    \n",
    "    for u in graph.adjList[v]:\n",
    "        if not discovered[u] :\n",
    "            time = DFS(graph,u,discovered,departure, time)\n",
    "    \n",
    "    departure[v] = time\n",
    "    time =time +1\n",
    "    return time"
   ]
  },
  {
   "cell_type": "code",
   "execution_count": 12,
   "metadata": {},
   "outputs": [
    {
     "name": "stdout",
     "output_type": "stream",
     "text": [
      "Graph is Cyclic : not DAG\n"
     ]
    }
   ],
   "source": [
    "# List of graph edges as per above diagram\n",
    "edges = [(0, 1), (0, 3),(3,0), (1, 2), (1, 3), (3, 2), (3, 4), (5, 6), (6, 3)]\n",
    "\n",
    "# Set number of vertices in the graph\n",
    "N = 7\n",
    "\n",
    "# create a graph from given edges\n",
    "graph = Graph(edges, N)\n",
    "\n",
    "# check if given directed graph is DAG or not\n",
    "if isDAG(graph, N):\n",
    "    print(\"Graph is Acyclic : DAG\")\n",
    "else:\n",
    "    print(\"Graph is Cyclic : not DAG\")"
   ]
  },
  {
   "cell_type": "code",
   "execution_count": null,
   "metadata": {},
   "outputs": [],
   "source": [
    "# Perform DFS on graph and set departure time of all vertices of the graph\n",
    "def DFS1(graph, v, discovered, departure, time):\n",
    " \n",
    "    # mark current node as discovered\n",
    "    discovered[v] = True\n",
    " \n",
    "    # do for every edge (v -> u)\n",
    "    for u in graph.adjList[v]:\n",
    "        # u is not discovered\n",
    "        if not discovered[u]:\n",
    "            time = DFS1(graph, u, discovered, departure, time)\n",
    " \n",
    "    # ready to backtrack\n",
    "    # set departure time of vertex v\n",
    "    departure[v] = time\n",
    "    time = time + 1\n",
    " \n",
    "    return time"
   ]
  },
  {
   "cell_type": "code",
   "execution_count": 3,
   "metadata": {},
   "outputs": [],
   "source": [
    "# returns true if given directed graph is DAG\n",
    "def isDAG(graph, N):\n",
    " \n",
    "    # stores vertex is discovered or not\n",
    "    discovered = [False] * N\n",
    " \n",
    "    # stores departure time of a vertex in DFS\n",
    "    departure = [None] * N\n",
    " \n",
    "    time = 0\n",
    " \n",
    "    # Do DFS traversal from all undiscovered vertices\n",
    "    # to visit all connected components of graph\n",
    "    for i in range(N):\n",
    "        if not discovered[i]:\n",
    "            time = DFS(graph, i, discovered, departure, time)\n",
    " \n",
    "    # check if given directed graph is DAG or not\n",
    "    for u in range(N):\n",
    " \n",
    "        # check if (u, v) forms a back-edge.\n",
    "        for v in graph.adjList[u]:\n",
    " \n",
    "            # If departure time of vertex v is greater than equal\n",
    "            # to departure time of u, then they form a back edge\n",
    " \n",
    "            # Note that departure[u] will be equal to departure[v]\n",
    "            # only if u = v i.e vertex contain an edge to itself\n",
    "            if departure[u] <= departure[v]:\n",
    "                return False\n",
    " \n",
    "    # no back edges\n",
    "    return True\n",
    "\n",
    "\n",
    "# Check if given digraph is a DAG (Directed Acyclic Graph) or not\n"
   ]
  },
  {
   "cell_type": "code",
   "execution_count": null,
   "metadata": {},
   "outputs": [],
   "source": []
  }
 ],
 "metadata": {
  "kernelspec": {
   "display_name": "Python 3",
   "language": "python",
   "name": "python3"
  },
  "language_info": {
   "codemirror_mode": {
    "name": "ipython",
    "version": 3
   },
   "file_extension": ".py",
   "mimetype": "text/x-python",
   "name": "python",
   "nbconvert_exporter": "python",
   "pygments_lexer": "ipython3",
   "version": "3.7.4"
  }
 },
 "nbformat": 4,
 "nbformat_minor": 2
}
