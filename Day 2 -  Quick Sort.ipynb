{
 "cells": [
  {
   "cell_type": "code",
   "execution_count": 102,
   "metadata": {},
   "outputs": [],
   "source": [
    "from random import sample\n",
    "\n",
    "def get(hori=20, ele=10):\n",
    "    return sample(range(hori*100), ele)"
   ]
  },
  {
   "cell_type": "code",
   "execution_count": 123,
   "metadata": {},
   "outputs": [
    {
     "name": "stdout",
     "output_type": "stream",
     "text": [
      "True True True True True True True True True True "
     ]
    }
   ],
   "source": [
    "def qs(arr, low, high):\n",
    "    if low<high:\n",
    "        indx = partition(arr, low, high)\n",
    "        qs(arr,low, indx-1)\n",
    "        qs(arr,indx+1,high)\n",
    "    \n",
    "def partition(arr, low, high):\n",
    "    if low==high:\n",
    "        return low\n",
    "    else:\n",
    "        pivot = arr[low]\n",
    "        i =low+1\n",
    "        j = high\n",
    "        \n",
    "        while(i<=j):\n",
    "            if i==j:\n",
    "                if arr[i] > pivot:\n",
    "                    arr[i-1], arr[low] = arr[low], arr[i-1]\n",
    "                    return i-1\n",
    "                else:\n",
    "                    arr[i], arr[low] = arr[low], arr[i]\n",
    "                    return i\n",
    "            if arr[i]>=pivot:\n",
    "                arr[i], arr[j] = arr[j], arr[i]\n",
    "                j=j-1\n",
    "            else:\n",
    "                i=i+1\n",
    "\n",
    "import random\n",
    "for _ in range(10):\n",
    "\n",
    "    a=get(hori = random.randint(500,1000) ,ele = random.randint(1,1000))\n",
    "    b=a[:]\n",
    "    qs(a, 0, len(a)-1)\n",
    "    print(sorted(b) == a, end = \" \")\n"
   ]
  },
  {
   "cell_type": "code",
   "execution_count": null,
   "metadata": {},
   "outputs": [],
   "source": []
  },
  {
   "cell_type": "code",
   "execution_count": null,
   "metadata": {},
   "outputs": [],
   "source": []
  }
 ],
 "metadata": {
  "kernelspec": {
   "display_name": "Python 3",
   "language": "python",
   "name": "python3"
  },
  "language_info": {
   "codemirror_mode": {
    "name": "ipython",
    "version": 3
   },
   "file_extension": ".py",
   "mimetype": "text/x-python",
   "name": "python",
   "nbconvert_exporter": "python",
   "pygments_lexer": "ipython3",
   "version": "3.7.4"
  }
 },
 "nbformat": 4,
 "nbformat_minor": 2
}
